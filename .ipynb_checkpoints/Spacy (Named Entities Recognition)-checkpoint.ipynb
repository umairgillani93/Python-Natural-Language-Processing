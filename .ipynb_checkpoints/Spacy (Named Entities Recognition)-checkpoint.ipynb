{
 "cells": [
  {
   "cell_type": "markdown",
   "metadata": {},
   "source": [
    "## Named Entities:\n",
    "\n",
    "Named Entities Recognition (NER) seeks to locate and classify Named Entities, mentioned in unstructured text into a pre-defined categories such as the Person, Names and Organizations, locations, medical codes, time expressions, quantities, monetary values and percentages etc.\n",
    "\n",
    "Our goal is to grab a raw text, and add in some additional information, such as named entities for corresponding words. E.g\n",
    "\n",
    "\"James bought and iPhone for Apple store in St. Louis\"\n",
    "\n",
    "James -> Person,\n",
    "Apple -> Organization,\n",
    "St.Louis -> Location\n",
    "\n",
    "Let's explore NER with Spacy, and also see how to add our own custom entities!"
   ]
  },
  {
   "cell_type": "code",
   "execution_count": 1,
   "metadata": {},
   "outputs": [],
   "source": [
    "import spacy \n",
    "\n",
    "nlp = spacy.load('en_core_web_sm')"
   ]
  },
  {
   "cell_type": "code",
   "execution_count": 2,
   "metadata": {},
   "outputs": [],
   "source": [
    "def show_ents(doc):\n",
    "    if doc.ents: # check if the doc has named entities\n",
    "        for ent in doc.ents: \n",
    "            print(ent.text + ' -- ' + ent.label_ + ' -- ' + str(spacy.explain(ent.label_)))\n",
    "            \n",
    "    else:\n",
    "        print('No entities found!')"
   ]
  },
  {
   "cell_type": "code",
   "execution_count": 3,
   "metadata": {},
   "outputs": [
    {
     "name": "stdout",
     "output_type": "stream",
     "text": [
      "No entities found!\n"
     ]
    }
   ],
   "source": [
    "doc = nlp(u\"Hi! How are you?\")\n",
    "\n",
    "show_ents(doc) # let's see if our doc has any Name entity!"
   ]
  },
  {
   "cell_type": "code",
   "execution_count": 4,
   "metadata": {},
   "outputs": [
    {
     "name": "stdout",
     "output_type": "stream",
     "text": [
      "No entities found!\n"
     ]
    }
   ],
   "source": [
    "# Let's try another one!\n",
    "\n",
    "doc2 = nlp(u\"The quick brown fox jumped over the lazy dog!\")\n",
    "\n",
    "show_ents(doc2)"
   ]
  },
  {
   "cell_type": "code",
   "execution_count": 5,
   "metadata": {},
   "outputs": [
    {
     "name": "stdout",
     "output_type": "stream",
     "text": [
      "iPhone -- ORG -- Companies, agencies, institutions, etc.\n",
      "Apple -- ORG -- Companies, agencies, institutions, etc.\n"
     ]
    }
   ],
   "source": [
    "doc3 = nlp(u\"I bought and iPhone recently from Apple store\")\n",
    "\n",
    "show_ents(doc3)\n",
    "# There you go we finally have some named entities in our sentence!"
   ]
  },
  {
   "cell_type": "code",
   "execution_count": 6,
   "metadata": {},
   "outputs": [
    {
     "name": "stdout",
     "output_type": "stream",
     "text": [
      "500 dollars -- MONEY -- Monetary values, including unit\n",
      "Microsoft -- ORG -- Companies, agencies, institutions, etc.\n"
     ]
    }
   ],
   "source": [
    "doc3 = nlp(u\"can I have a 500 dollars of Microsoft stock\")\n",
    "\n",
    "show_ents(doc3)"
   ]
  },
  {
   "cell_type": "code",
   "execution_count": 8,
   "metadata": {},
   "outputs": [],
   "source": [
    "# Notice above, spacy is smart enough to understand that, the number 500 and word 'dollars' go together!"
   ]
  },
  {
   "cell_type": "code",
   "execution_count": 23,
   "metadata": {},
   "outputs": [
    {
     "name": "stdout",
     "output_type": "stream",
     "text": [
      "U.K -- ORG -- Companies, agencies, institutions, etc.\n",
      "$6 millions -- MONEY -- Monetary values, including unit\n"
     ]
    }
   ],
   "source": [
    "doc = nlp(u\"Tesla to built a U.K factory for $6 millions\")\n",
    "\n",
    "show_ents(doc4)"
   ]
  },
  {
   "cell_type": "markdown",
   "metadata": {},
   "source": [
    "## Adding Named Entities to A Span:"
   ]
  },
  {
   "cell_type": "code",
   "execution_count": 24,
   "metadata": {},
   "outputs": [],
   "source": [
    "from spacy.tokens import Span"
   ]
  },
  {
   "cell_type": "code",
   "execution_count": 25,
   "metadata": {},
   "outputs": [],
   "source": [
    "ORG = doc.vocab.strings[u\"ORG\"]"
   ]
  },
  {
   "cell_type": "code",
   "execution_count": 26,
   "metadata": {},
   "outputs": [
    {
     "data": {
      "text/plain": [
       "381"
      ]
     },
     "execution_count": 26,
     "metadata": {},
     "output_type": "execute_result"
    }
   ],
   "source": [
    "ORG # reports back the hashed numerical id for that particular word string"
   ]
  },
  {
   "cell_type": "code",
   "execution_count": 32,
   "metadata": {},
   "outputs": [],
   "source": [
    "# let's now create a span for the new entities\n",
    "\n",
    "new_ent = Span(doc4, 0, 1, label = ORG) # grab the word at index 0, having label = ORG (we defined above)\n",
    "# assigning our own label to the entity we wanna add to our doc!"
   ]
  },
  {
   "cell_type": "code",
   "execution_count": 28,
   "metadata": {},
   "outputs": [],
   "source": [
    "# adding an entity to an existing documenct object!\n",
    "\n",
    "doc.ents = list(doc4.ents) + [new_ent]"
   ]
  },
  {
   "cell_type": "code",
   "execution_count": 29,
   "metadata": {},
   "outputs": [
    {
     "data": {
      "text/plain": [
       "(Tesla, U.K, $6 millions)"
      ]
     },
     "execution_count": 29,
     "metadata": {},
     "output_type": "execute_result"
    }
   ],
   "source": [
    "doc.ents"
   ]
  },
  {
   "cell_type": "code",
   "execution_count": 31,
   "metadata": {},
   "outputs": [
    {
     "name": "stdout",
     "output_type": "stream",
     "text": [
      "Tesla -- ORG -- Companies, agencies, institutions, etc.\n",
      "U.K -- ORG -- Companies, agencies, institutions, etc.\n",
      "$6 millions -- MONEY -- Monetary values, including unit\n"
     ]
    }
   ],
   "source": [
    "show_ents(doc) # Now you can see that Tesla is added as an 'entity' Organization in our actual context!"
   ]
  },
  {
   "cell_type": "code",
   "execution_count": null,
   "metadata": {},
   "outputs": [],
   "source": []
  }
 ],
 "metadata": {
  "kernelspec": {
   "display_name": "Python 3",
   "language": "python",
   "name": "python3"
  },
  "language_info": {
   "codemirror_mode": {
    "name": "ipython",
    "version": 3
   },
   "file_extension": ".py",
   "mimetype": "text/x-python",
   "name": "python",
   "nbconvert_exporter": "python",
   "pygments_lexer": "ipython3",
   "version": "3.7.3"
  }
 },
 "nbformat": 4,
 "nbformat_minor": 2
}
