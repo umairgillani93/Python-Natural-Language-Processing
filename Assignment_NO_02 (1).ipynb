{
 "cells": [
  {
   "cell_type": "markdown",
   "metadata": {},
   "source": [
    "### INSTRUCTIONS:"
   ]
  },
  {
   "cell_type": "markdown",
   "metadata": {},
   "source": [
    "Hello Guys! We are back with your Assignment no. 2. In order not to mess up everything like previous, I have made this questions based Notebook for you guys, that contatins total of x questions. Now before you go ahead and start solving the questions, here's bunch of instructions I want you to follow: \n",
    "\n",
    "* Edit the title of the Notebook with your name, and assignment number\n",
    "* No plagiarism is allowed, if found copied content, the question will be cancelled immediately and __zero__ marks will be given.\n",
    "* The code has to be well explained, with complete documentation, and has to make sense.\n",
    "* Do not change question, if found edited __zero__ marks will be given.\n",
    "* Understandig Question is the part of question, no discussion is allowed.\n",
    "* Each question is left with an empty cell below, right your code inside that given cell.\n",
    "* The deadline for submission is __Monday till 10:00 AM__, late sumbission will end up marks deduction.\n",
    "\n",
    "__GOOD LUCK__"
   ]
  },
  {
   "cell_type": "markdown",
   "metadata": {},
   "source": [
    "##        Muhammad Shouzeb Saleem\n",
    "##       Assigmnet 02"
   ]
  },
  {
   "cell_type": "markdown",
   "metadata": {},
   "source": [
    "### Question: 01\n",
    "\n",
    "Write a Python class that converts the randian angle into degrees. Also use __repr__ method or __str__ method to print the class representation?"
   ]
  },
  {
   "cell_type": "code",
   "execution_count": 3,
   "metadata": {},
   "outputs": [
    {
     "name": "stdout",
     "output_type": "stream",
     "text": [
      "Enter the Value of Radian3.14\n"
     ]
    },
    {
     "ename": "ValueError",
     "evalue": "invalid literal for int() with base 10: '3.14'",
     "output_type": "error",
     "traceback": [
      "\u001b[0;31m---------------------------------------------------------------------------\u001b[0m",
      "\u001b[0;31mValueError\u001b[0m                                Traceback (most recent call last)",
      "\u001b[0;32m<ipython-input-3-3819784a9f1e>\u001b[0m in \u001b[0;36m<module>\u001b[0;34m\u001b[0m\n\u001b[1;32m      6\u001b[0m \u001b[0;34m\u001b[0m\u001b[0m\n\u001b[1;32m      7\u001b[0m \u001b[0;32mif\u001b[0m \u001b[0m__name__\u001b[0m\u001b[0;34m==\u001b[0m\u001b[0;34m'__main__'\u001b[0m\u001b[0;34m:\u001b[0m \u001b[0;31m#Main Function\u001b[0m\u001b[0;34m\u001b[0m\u001b[0;34m\u001b[0m\u001b[0m\n\u001b[0;32m----> 8\u001b[0;31m     \u001b[0mval\u001b[0m\u001b[0;34m=\u001b[0m\u001b[0mint\u001b[0m\u001b[0;34m(\u001b[0m\u001b[0minput\u001b[0m\u001b[0;34m(\u001b[0m\u001b[0;34m'Enter the Value of Radian'\u001b[0m\u001b[0;34m)\u001b[0m\u001b[0;34m)\u001b[0m\u001b[0;34m\u001b[0m\u001b[0;34m\u001b[0m\u001b[0m\n\u001b[0m\u001b[1;32m      9\u001b[0m     \u001b[0mobj\u001b[0m\u001b[0;34m=\u001b[0m\u001b[0mConvert\u001b[0m\u001b[0;34m(\u001b[0m\u001b[0mval\u001b[0m\u001b[0;34m)\u001b[0m\u001b[0;34m\u001b[0m\u001b[0;34m\u001b[0m\u001b[0m\n\u001b[1;32m     10\u001b[0m     \u001b[0mnew_value\u001b[0m\u001b[0;34m=\u001b[0m\u001b[0mobj\u001b[0m\u001b[0;34m.\u001b[0m\u001b[0mget_value\u001b[0m\u001b[0;34m(\u001b[0m\u001b[0;34m)\u001b[0m\u001b[0;34m\u001b[0m\u001b[0;34m\u001b[0m\u001b[0m\n",
      "\u001b[0;31mValueError\u001b[0m: invalid literal for int() with base 10: '3.14'"
     ]
    }
   ],
   "source": [
    "class Convert:\n",
    "    def __init__(self,r): #Constructor\n",
    "        self.r=r\n",
    "    def get_value(self):  #Method to Convert Radian to Dgree\n",
    "        return self.r*180/3.14\n",
    "\n",
    "if __name__=='__main__': #Main Function\n",
    "    val=int(input('Enter the Value of Radian'))\n",
    "    obj=Convert(val)\n",
    "    new_value=obj.get_value()\n",
    "    print(\"Degrees = \",repr(new_value)) # call reper Function\n",
    "    print(\"Degrees = \",str(new_value))  #Call str function\n",
    "    \n",
    "# Marks 0.25 / 1"
   ]
  },
  {
   "cell_type": "markdown",
   "metadata": {},
   "source": [
    "### Question: 02\n",
    "\n",
    "Write a Python Class to calculate the area of a parallelogram."
   ]
  },
  {
   "cell_type": "code",
   "execution_count": 5,
   "metadata": {},
   "outputs": [
    {
     "name": "stdout",
     "output_type": "stream",
     "text": [
      "Enter the Value of Base10\n",
      "Enter the Value of Height12.5\n"
     ]
    },
    {
     "ename": "ValueError",
     "evalue": "invalid literal for int() with base 10: '12.5'",
     "output_type": "error",
     "traceback": [
      "\u001b[0;31m---------------------------------------------------------------------------\u001b[0m",
      "\u001b[0;31mValueError\u001b[0m                                Traceback (most recent call last)",
      "\u001b[0;32m<ipython-input-5-c6af14be36c6>\u001b[0m in \u001b[0;36m<module>\u001b[0;34m\u001b[0m\n\u001b[1;32m     10\u001b[0m \u001b[0;32mif\u001b[0m \u001b[0m__name__\u001b[0m\u001b[0;34m==\u001b[0m\u001b[0;34m'__main__'\u001b[0m\u001b[0;34m:\u001b[0m \u001b[0;31m#Main Function\u001b[0m\u001b[0;34m\u001b[0m\u001b[0;34m\u001b[0m\u001b[0m\n\u001b[1;32m     11\u001b[0m     \u001b[0mbase\u001b[0m\u001b[0;34m=\u001b[0m\u001b[0mint\u001b[0m\u001b[0;34m(\u001b[0m\u001b[0minput\u001b[0m\u001b[0;34m(\u001b[0m\u001b[0;34m'Enter the Value of Base'\u001b[0m\u001b[0;34m)\u001b[0m\u001b[0;34m)\u001b[0m\u001b[0;34m\u001b[0m\u001b[0;34m\u001b[0m\u001b[0m\n\u001b[0;32m---> 12\u001b[0;31m     \u001b[0mheight\u001b[0m\u001b[0;34m=\u001b[0m\u001b[0mint\u001b[0m\u001b[0;34m(\u001b[0m\u001b[0minput\u001b[0m\u001b[0;34m(\u001b[0m\u001b[0;34m'Enter the Value of Height'\u001b[0m\u001b[0;34m)\u001b[0m\u001b[0;34m)\u001b[0m\u001b[0;34m\u001b[0m\u001b[0;34m\u001b[0m\u001b[0m\n\u001b[0m\u001b[1;32m     13\u001b[0m     \u001b[0mobj\u001b[0m\u001b[0;34m=\u001b[0m\u001b[0mConvert\u001b[0m\u001b[0;34m(\u001b[0m\u001b[0mbase\u001b[0m\u001b[0;34m,\u001b[0m\u001b[0mheight\u001b[0m\u001b[0;34m)\u001b[0m\u001b[0;34m\u001b[0m\u001b[0;34m\u001b[0m\u001b[0m\n\u001b[1;32m     14\u001b[0m     \u001b[0mprint\u001b[0m\u001b[0;34m(\u001b[0m\u001b[0;34m\"The area of parallelogaram is : \"\u001b[0m\u001b[0;34m,\u001b[0m\u001b[0mobj\u001b[0m\u001b[0;34m.\u001b[0m\u001b[0mget_value\u001b[0m\u001b[0;34m(\u001b[0m\u001b[0;34m)\u001b[0m\u001b[0;34m)\u001b[0m\u001b[0;34m\u001b[0m\u001b[0;34m\u001b[0m\u001b[0m\n",
      "\u001b[0;31mValueError\u001b[0m: invalid literal for int() with base 10: '12.5'"
     ]
    }
   ],
   "source": [
    "class Convert:\n",
    "    \n",
    "    def __init__(self,b,h): #Constructor\n",
    "        self.b=b\n",
    "        self.h=h\n",
    "        \n",
    "    def get_value(self):  #Method to Find the Area of Parallelogram\n",
    "        return self.b*self.h\n",
    "    \n",
    "if __name__=='__main__': #Main Function\n",
    "    base=int(input('Enter the Value of Base'))\n",
    "    height=int(input('Enter the Value of Height'))\n",
    "    obj=Convert(base,height)\n",
    "    print(\"The area of parallelogaram is : \",obj.get_value())\n",
    "    \n",
    "# 0.25 / 1"
   ]
  },
  {
   "cell_type": "markdown",
   "metadata": {},
   "source": [
    "### Question: 03\n",
    "\n",
    "Write a Python class to calculate the harmonic sum of n-1.\n",
    "Note: The harmonic sum is the sum of reciprocals of the positive integers."
   ]
  },
  {
   "cell_type": "code",
   "execution_count": 10,
   "metadata": {},
   "outputs": [
    {
     "name": "stdout",
     "output_type": "stream",
     "text": [
      "Enter the Number Where you want to get the sum (n-1)2\n",
      "The sum of Harmonic series is : 1.0\n"
     ]
    }
   ],
   "source": [
    "class Harmonic:\n",
    "    \n",
    "    def __init__(self,n): #Constructor\n",
    "        self.n=n\n",
    "        self.sum=0\n",
    "    def get_sum(self):  #Sum of series\n",
    "        for i in range(1,self.n):\n",
    "            self.sum+=1/i\n",
    "        return self.sum\n",
    "if __name__==\"__main__\":\n",
    "    value=int(input(\"Enter the Number Where you want to get the sum (n-1)\"))\n",
    "    obj=Harmonic(value)\n",
    "    new_value=obj.get_sum()\n",
    "    print(f\"The sum of Harmonic series is : {new_value}\")\n",
    "    \n",
    "# 0.75/ 1"
   ]
  },
  {
   "cell_type": "markdown",
   "metadata": {},
   "source": [
    "### Question: 04\n",
    "\n",
    "Write a Python class to calculate the geometric sum of n-1.\n",
    "Note: In mathematics, a geometric series is a series with a constant ratio between successive terms."
   ]
  },
  {
   "cell_type": "code",
   "execution_count": 12,
   "metadata": {},
   "outputs": [
    {
     "name": "stdout",
     "output_type": "stream",
     "text": [
      "Enter the Number Where you want to get the sum (n-1)4\n",
      "Enter the Constant Ratio 4\n",
      "The sum of Geomatric series is : 228\n"
     ]
    }
   ],
   "source": [
    "import math\n",
    "class Geomatric:\n",
    "    def __init__(self,n,r): #Constructor\n",
    "        self.n=n\n",
    "        self.r=r\n",
    "        self.sum=0\n",
    "    def get_sum(self):  #Sum of Series\n",
    "        for i in range(0,self.n):\n",
    "            self.sum+=i*pow(self.r,i)\n",
    "        return self.sum    \n",
    "if __name__==\"__main__\":\n",
    "    value=int(input(\"Enter the Number Where you want to get the sum (n-1)\"))\n",
    "    const=int(input(\"Enter the Constant Ratio \"))\n",
    "    obj=Geomatric(value,const) \n",
    "    new_value=obj.get_sum()\n",
    "    print(f\"The sum of Geomatric series is : {new_value}\") \n",
    "    \n",
    "# 0.5 / 1"
   ]
  },
  {
   "cell_type": "markdown",
   "metadata": {},
   "source": [
    "### Question: 05\n",
    "\n",
    "Write a Python class \"Calculations\" that does the following things:\n",
    "* Implements the power rule to find the derivate\n",
    "* Implements the chain rule to find the derivate\n",
    "* Returns the result of an integration: constant * (x ** constant)\n",
    "* Finally make another class that inherites from class \"Calculations\" and reports back it's methods and attributes\n",
    "\n",
    "Note: While inheriting use the name of the class i.e \"Calculations\" in child class constructor and pass in its attributes not with the Super() method."
   ]
  },
  {
   "cell_type": "code",
   "execution_count": 17,
   "metadata": {},
   "outputs": [],
   "source": [
    "class Calculation:\n",
    "    def __init__(self,c,n): #Constructor\n",
    "        self.c=c\n",
    "        self.n=n\n",
    "        \n",
    "    def get_derivative_Const(self): #multiplication of derivaties Constant with power\n",
    "        u=self.n*self.c\n",
    "        return u\n",
    "    def get_power_of_derivative(self): #Substracting power with 1\n",
    "        return self.n-1\n",
    "    def get_integeration(self):  #Applying integeration\n",
    "        return self.c*(x**self.c)\n",
    "class Child(Calculation): #Child Class\n",
    "    def __init__(self,c,n):  #Child Class Constructor\n",
    "        self.c=c\n",
    "        self.n=n\n",
    "    \n",
    "if __name__=='main':\n",
    "    c=Child(2,3)\n",
    "    print(f'{c.get_derivative_Const()}x^{c.get_power_of_derivative()}')\n",
    "    print(c.get_integeration())\n",
    "    \n",
    "# 0.5 / 1"
   ]
  },
  {
   "cell_type": "markdown",
   "metadata": {},
   "source": [
    "### Question: 06\n",
    "\n",
    "Write a Python class that does the following things:\n",
    "\n",
    "* Implements straight line equation\n",
    "* Calculates slope of the line\n",
    "* Calculates the distance between two points\n",
    "* Calculates the volume of the sphere\n",
    "\n",
    "Make a child class and inherits it's methods and attributes"
   ]
  },
  {
   "cell_type": "code",
   "execution_count": 19,
   "metadata": {},
   "outputs": [
    {
     "name": "stdout",
     "output_type": "stream",
     "text": [
      "Enter the Value of M : 2\n",
      "Enter the Value of x1 : 3\n",
      "Enter the Value of x2 : 3\n",
      "Enter the Value of y1 : 4\n",
      "Enter the Value of y2 : 3\n",
      "Enter the Value of c : 3\n",
      "Enter the Value of r : 2\n",
      "Enter the Value of pi : 2\n",
      "The Straight line Equation is : 3.0\n"
     ]
    },
    {
     "ename": "ZeroDivisionError",
     "evalue": "float division by zero",
     "output_type": "error",
     "traceback": [
      "\u001b[0;31m---------------------------------------------------------------------------\u001b[0m",
      "\u001b[0;31mZeroDivisionError\u001b[0m                         Traceback (most recent call last)",
      "\u001b[0;32m<ipython-input-19-557a1fb62975>\u001b[0m in \u001b[0;36m<module>\u001b[0;34m\u001b[0m\n\u001b[1;32m     36\u001b[0m     \u001b[0mobj\u001b[0m\u001b[0;34m=\u001b[0m\u001b[0mChild\u001b[0m\u001b[0;34m(\u001b[0m\u001b[0mval1\u001b[0m\u001b[0;34m,\u001b[0m\u001b[0mval2\u001b[0m\u001b[0;34m,\u001b[0m\u001b[0mval3\u001b[0m\u001b[0;34m,\u001b[0m\u001b[0mval4\u001b[0m\u001b[0;34m,\u001b[0m\u001b[0mval5\u001b[0m\u001b[0;34m,\u001b[0m\u001b[0mval6\u001b[0m\u001b[0;34m,\u001b[0m\u001b[0mval7\u001b[0m\u001b[0;34m,\u001b[0m\u001b[0mval8\u001b[0m\u001b[0;34m)\u001b[0m\u001b[0;34m\u001b[0m\u001b[0;34m\u001b[0m\u001b[0m\n\u001b[1;32m     37\u001b[0m     \u001b[0mprint\u001b[0m\u001b[0;34m(\u001b[0m\u001b[0;34m\"The Straight line Equation is :\"\u001b[0m\u001b[0;34m,\u001b[0m\u001b[0mobj\u001b[0m\u001b[0;34m.\u001b[0m\u001b[0mget_line_equation\u001b[0m\u001b[0;34m(\u001b[0m\u001b[0;34m)\u001b[0m\u001b[0;34m)\u001b[0m\u001b[0;34m\u001b[0m\u001b[0;34m\u001b[0m\u001b[0m\n\u001b[0;32m---> 38\u001b[0;31m     \u001b[0mprint\u001b[0m\u001b[0;34m(\u001b[0m\u001b[0;34m\"The SLope of Equation is :\"\u001b[0m\u001b[0;34m,\u001b[0m\u001b[0mobj\u001b[0m\u001b[0;34m.\u001b[0m\u001b[0mget_slope\u001b[0m\u001b[0;34m(\u001b[0m\u001b[0;34m)\u001b[0m\u001b[0;34m)\u001b[0m\u001b[0;34m\u001b[0m\u001b[0;34m\u001b[0m\u001b[0m\n\u001b[0m\u001b[1;32m     39\u001b[0m     \u001b[0mprint\u001b[0m\u001b[0;34m(\u001b[0m\u001b[0;34m\"The Distance line Equation is :\"\u001b[0m\u001b[0;34m,\u001b[0m\u001b[0mobj\u001b[0m\u001b[0;34m.\u001b[0m\u001b[0mget_distance\u001b[0m\u001b[0;34m(\u001b[0m\u001b[0;34m)\u001b[0m\u001b[0;34m)\u001b[0m\u001b[0;34m\u001b[0m\u001b[0;34m\u001b[0m\u001b[0m\n\u001b[1;32m     40\u001b[0m     \u001b[0mprint\u001b[0m\u001b[0;34m(\u001b[0m\u001b[0;34m\"The Volume of Spere is :\"\u001b[0m\u001b[0;34m,\u001b[0m\u001b[0mobj\u001b[0m\u001b[0;34m.\u001b[0m\u001b[0mget_volume\u001b[0m\u001b[0;34m(\u001b[0m\u001b[0;34m)\u001b[0m\u001b[0;34m)\u001b[0m\u001b[0;34m\u001b[0m\u001b[0;34m\u001b[0m\u001b[0m\n",
      "\u001b[0;32m<ipython-input-19-557a1fb62975>\u001b[0m in \u001b[0;36mget_slope\u001b[0;34m(self)\u001b[0m\n\u001b[1;32m     14\u001b[0m         \u001b[0;32mreturn\u001b[0m \u001b[0mself\u001b[0m\u001b[0;34m.\u001b[0m\u001b[0mm\u001b[0m\u001b[0;34m*\u001b[0m\u001b[0;34m(\u001b[0m\u001b[0mself\u001b[0m\u001b[0;34m.\u001b[0m\u001b[0mx2\u001b[0m\u001b[0;34m-\u001b[0m\u001b[0mself\u001b[0m\u001b[0;34m.\u001b[0m\u001b[0mx1\u001b[0m\u001b[0;34m)\u001b[0m\u001b[0;34m+\u001b[0m\u001b[0mself\u001b[0m\u001b[0;34m.\u001b[0m\u001b[0mc\u001b[0m\u001b[0;34m\u001b[0m\u001b[0;34m\u001b[0m\u001b[0m\n\u001b[1;32m     15\u001b[0m     \u001b[0;32mdef\u001b[0m \u001b[0mget_slope\u001b[0m\u001b[0;34m(\u001b[0m\u001b[0mself\u001b[0m\u001b[0;34m)\u001b[0m\u001b[0;34m:\u001b[0m  \u001b[0;31m#slope of line\u001b[0m\u001b[0;34m\u001b[0m\u001b[0;34m\u001b[0m\u001b[0m\n\u001b[0;32m---> 16\u001b[0;31m         \u001b[0;32mreturn\u001b[0m \u001b[0;34m(\u001b[0m\u001b[0mself\u001b[0m\u001b[0;34m.\u001b[0m\u001b[0my2\u001b[0m\u001b[0;34m-\u001b[0m\u001b[0mself\u001b[0m\u001b[0;34m.\u001b[0m\u001b[0my1\u001b[0m\u001b[0;34m)\u001b[0m\u001b[0;34m/\u001b[0m\u001b[0;34m(\u001b[0m\u001b[0mself\u001b[0m\u001b[0;34m.\u001b[0m\u001b[0mx2\u001b[0m\u001b[0;34m-\u001b[0m\u001b[0mself\u001b[0m\u001b[0;34m.\u001b[0m\u001b[0mx1\u001b[0m\u001b[0;34m)\u001b[0m\u001b[0;34m\u001b[0m\u001b[0;34m\u001b[0m\u001b[0m\n\u001b[0m\u001b[1;32m     17\u001b[0m     \u001b[0;32mdef\u001b[0m \u001b[0mget_distance\u001b[0m\u001b[0;34m(\u001b[0m\u001b[0mself\u001b[0m\u001b[0;34m)\u001b[0m\u001b[0;34m:\u001b[0m \u001b[0;31m#GEt the distance of line\u001b[0m\u001b[0;34m\u001b[0m\u001b[0;34m\u001b[0m\u001b[0m\n\u001b[1;32m     18\u001b[0m         \u001b[0;32mreturn\u001b[0m \u001b[0mmath\u001b[0m\u001b[0;34m.\u001b[0m\u001b[0msqrt\u001b[0m\u001b[0;34m(\u001b[0m\u001b[0;34m(\u001b[0m\u001b[0mself\u001b[0m\u001b[0;34m.\u001b[0m\u001b[0mx2\u001b[0m\u001b[0;34m-\u001b[0m\u001b[0mself\u001b[0m\u001b[0;34m.\u001b[0m\u001b[0mx1\u001b[0m\u001b[0;34m)\u001b[0m\u001b[0;34m**\u001b[0m\u001b[0;36m2\u001b[0m\u001b[0;34m+\u001b[0m\u001b[0;34m(\u001b[0m\u001b[0mself\u001b[0m\u001b[0;34m.\u001b[0m\u001b[0my2\u001b[0m\u001b[0;34m-\u001b[0m\u001b[0mself\u001b[0m\u001b[0;34m.\u001b[0m\u001b[0my1\u001b[0m\u001b[0;34m)\u001b[0m\u001b[0;34m**\u001b[0m\u001b[0;36m2\u001b[0m\u001b[0;34m)\u001b[0m\u001b[0;34m\u001b[0m\u001b[0;34m\u001b[0m\u001b[0m\n",
      "\u001b[0;31mZeroDivisionError\u001b[0m: float division by zero"
     ]
    }
   ],
   "source": [
    "import math\n",
    "class Line:\n",
    "    def __init__(self,m,x1,x2,y1,y2,c,r,pi): # Constructor to initialize variable \n",
    "        self.m=m\n",
    "        self.x1=x1\n",
    "        self.x2=x2\n",
    "        self.y1=y1\n",
    "        self.y2=y2\n",
    "        self.c=c\n",
    "        self.r=r\n",
    "        self.pi=pi\n",
    "        \n",
    "    def get_line_equation(self): #equation of line\n",
    "        return self.m*(self.x2-self.x1)+self.c\n",
    "    def get_slope(self):  #slope of line\n",
    "        return (self.y2-self.y1)/(self.x2-self.x1)\n",
    "    def get_distance(self): #GEt the distance of line\n",
    "        return math.sqrt((self.x2-self.x1)**2+(self.y2-self.y1)**2)\n",
    "    def get_volume(self): #Get the volume of sphere\n",
    "        return (4/3)*self.pi*pow(self.r,3)\n",
    "\n",
    "class Child(Line): #Child class\n",
    "    def __init__(self,m,x1,x2,y1,y2,c,r,pi):\n",
    "        super().__init__(m,x1,x2,y1,y2,c,r,pi) #calling super method\n",
    "        \n",
    "if __name__=='__main__':\n",
    "    \n",
    "    val1=float(input(\"Enter the Value of M : \"))\n",
    "    val2=float(input('Enter the Value of x1 : '))\n",
    "    val3=float(input('Enter the Value of x2 : '))\n",
    "    val4=float(input('Enter the Value of y1 : '))\n",
    "    val5=float(input('Enter the Value of y2 : '))\n",
    "    val6=float(input('Enter the Value of c : '))\n",
    "    val7=float(input('Enter the Value of r : '))\n",
    "    val8=float(input('Enter the Value of pi : '))\n",
    "    obj=Child(val1,val2,val3,val4,val5,val6,val7,val8)\n",
    "    print(\"The Straight line Equation is :\",obj.get_line_equation())\n",
    "    print(\"The SLope of Equation is :\",obj.get_slope())\n",
    "    print(\"The Distance line Equation is :\",obj.get_distance())\n",
    "    print(\"The Volume of Spere is :\",obj.get_volume())\n",
    "\n",
    "# 0.5 / 1"
   ]
  },
  {
   "cell_type": "markdown",
   "metadata": {},
   "source": [
    "### Question: 07\n",
    "\n",
    "Explain Error handlers in python, right an example code and use all the essential blocks the handles the errors and exceptions. Elaborate your code with explanation"
   ]
  },
  {
   "cell_type": "code",
   "execution_count": 21,
   "metadata": {},
   "outputs": [
    {
     "name": "stdout",
     "output_type": "stream",
     "text": [
      "Enter your age 3\n",
      "This is Final Block\n",
      "You are eligible to apply in this course\n"
     ]
    }
   ],
   "source": [
    "\n",
    "try:   \n",
    "    age=int(input(\"Enter your age \")) #try Block\n",
    "except ValueError:\n",
    "    print(\"You enter the wrong Value\") #except Block\n",
    "except TypeError:\n",
    "    print(\"Your data Type is wrong\")    \n",
    "except:\n",
    "    print(\"Unexpected Value\")\n",
    "finally:\n",
    "    print(\"This is Final Block\") #final Block\n",
    "\n",
    "if age<18:\n",
    "    print(\"You are eligible to apply in this course\")\n",
    "else:\n",
    "    print(\"Your are eligible to apply in this course\")\n",
    "    \n",
    "# 0.25 / 1"
   ]
  },
  {
   "cell_type": "markdown",
   "metadata": {},
   "source": [
    "### Question: 08\n",
    "\n",
    "Create a .txt file with python, implement and explain it's different modes of operations."
   ]
  },
  {
   "cell_type": "code",
   "execution_count": 23,
   "metadata": {},
   "outputs": [
    {
     "name": "stdout",
     "output_type": "stream",
     "text": [
      "Hello.. My name is Muhammad Shouzeb Saleem. I am doing BSCS. \n",
      "Hello.. My name is Muhammad Shouzeb Saleem. I am doing BSCS. This new Appended Text\n",
      " My name is Muhammad Shouzeb Saleem. I am doing BSCS. This new Appended Text\n",
      "Hello.. My name is Muhammad Shouzeb Saleem. I am doing BSCS. This new Appended Text I am using a+ mode .\n"
     ]
    }
   ],
   "source": [
    "with open('assignment2.txt','w') as f: #write Mode\n",
    "    list1=['Hello.. My name is Muhammad Shouzeb Saleem. I am doing BSCS. ']\n",
    "    f.writelines(list1)\n",
    "with open('assignment2.txt','r') as f: #read mode\n",
    "    value=f.read()\n",
    "    print(value)\n",
    "with open('assignment2.txt','a') as f: #append Mode\n",
    "    f.write(\"This new Appended Text\") \n",
    "with open('assignment2.txt','r') as f:\n",
    "    value=f.read()\n",
    "    print(value)\n",
    "    f.seek(7)\n",
    "    print(f.read())\n",
    "f= open('assignment2.txt','a+')  #Read and Write both\n",
    "f.write(\" I am using a+ mode .\")\n",
    "f.close()\n",
    "with open('assignment2.txt','r') as f:\n",
    "    value=f.read()\n",
    "    print(value)\n",
    "    \n",
    "# 0.75 / 1"
   ]
  },
  {
   "cell_type": "markdown",
   "metadata": {},
   "source": [
    "### Questions: 09 (Bonus Question)\n",
    "\n",
    "Write a Python script to calculate the Fourier Series. You can use numpy, but code has to be explained and well commented!"
   ]
  },
  {
   "cell_type": "code",
   "execution_count": 24,
   "metadata": {},
   "outputs": [],
   "source": [
    "# 0 / 1"
   ]
  },
  {
   "cell_type": "code",
   "execution_count": 26,
   "metadata": {},
   "outputs": [
    {
     "name": "stdout",
     "output_type": "stream",
     "text": [
      "Question: 1 : Marks Obt. 0.25\n",
      "Question: 2 : Marks Obt. 0.25\n",
      "Question: 3 : Marks Obt. 0.75\n",
      "Question: 4 : Marks Obt. 0.5\n",
      "Question: 5 : Marks Obt. 0.5\n",
      "Question: 6 : Marks Obt. 0.5\n",
      "Question: 7 : Marks Obt. 0.25\n",
      "Question: 8 : Marks Obt. 0.75\n",
      "Question: 9 : Marks Obt. 0\n",
      "\n",
      "\n",
      "Marks Obtained = 3.75 : Total Marks = 10\n",
      "\n",
      "\n",
      "Total Weightage / 10 = 3.750\n"
     ]
    }
   ],
   "source": [
    "marks_list = [0.25, 0.25, 0.75, 0.5, 0.5, 0.5, 0.25, 0.75, 0]\n",
    "\n",
    "count = 1\n",
    "for num in marks_list:\n",
    "    print(f\"Question: {count} : Marks Obt. {num}\")\n",
    "    count += 1\n",
    "    \n",
    "# Total Marks Obtained:\n",
    "\n",
    "marks_obt= sum(marks_list)\n",
    "total_marks = 10\n",
    "\n",
    "print('\\n')\n",
    "print(f\"Marks Obtained = {marks_obt} : Total Marks = {total_marks}\")\n",
    "\n",
    "# Weightage out of 10:\n",
    "\n",
    "Weightage = (marks_obt / total_marks) *10\n",
    "print('\\n')\n",
    "print('Total Weightage / 10 = {0:.3f}'.format(Weightage))"
   ]
  },
  {
   "cell_type": "code",
   "execution_count": null,
   "metadata": {},
   "outputs": [],
   "source": []
  }
 ],
 "metadata": {
  "kernelspec": {
   "display_name": "Python 3",
   "language": "python",
   "name": "python3"
  },
  "language_info": {
   "codemirror_mode": {
    "name": "ipython",
    "version": 3
   },
   "file_extension": ".py",
   "mimetype": "text/x-python",
   "name": "python",
   "nbconvert_exporter": "python",
   "pygments_lexer": "ipython3",
   "version": "3.7.3"
  }
 },
 "nbformat": 4,
 "nbformat_minor": 2
}
